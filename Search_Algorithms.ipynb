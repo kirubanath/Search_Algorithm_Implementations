{
 "cells": [
  {
   "cell_type": "code",
   "execution_count": 332,
   "metadata": {},
   "outputs": [],
   "source": [
    "import matplotlib.pyplot as plt\n",
    "import networkx as nx\n",
    "\n",
    "class Node:\n",
    "    \"\"\"\n",
    "    Node class\n",
    "    \"\"\"\n",
    "    def __init__(self,val): #this is initializing the class!\n",
    "        self.val = val\n",
    "        self.edges = []\n",
    "    \n",
    "    def __eq__(self,other): #equal method\n",
    "        return self.val == other.val\n",
    "\n",
    "    def __hash__(self): #hashing keys makes the accessign quicker!\n",
    "        return hash(self.val)\n",
    "\n",
    "class G:\n",
    "    def __init__(self, nodes = []):\n",
    "        self.nodes = nodes\n",
    "        self.visual = []\n",
    "\n",
    "    def add_node(self,val):\n",
    "        new_node = Node(val)\n",
    "        self.nodes.append(new_node)\n",
    "\n",
    "    def add_edge(self,node1,node2):\n",
    "        node1.edges.append(node2)\n",
    "        node2.edges.append(node1)\n",
    "        self.visual.append([node1.val, node2.val])\n",
    "\n",
    "    def create_graph(self, graph_dict):\n",
    "        for node in graph_dict.keys():\n",
    "            new_node = Node(node)\n",
    "            self.nodes.append(new_node)\n",
    "        for node in self.nodes:\n",
    "            for edge in graph_dict[node.val]:\n",
    "                node.edges.append(self.nodes[edge])\n",
    "                self.nodes[edge].edges.append(node)\n",
    "                self.visual.append([node.val, self.nodes[edge].val])\n",
    "    def print_graph(self):\n",
    "        for node in self.nodes:\n",
    "            print('Node Vale:' , node.val)\n",
    "            for edge in node.edges:\n",
    "                print(\"\\tEdge value:\", edge.val)\n",
    "\n",
    "    def visualize(self):\n",
    "        G = nx.Graph()\n",
    "        G.add_edges_from(self.visual)\n",
    "        nx.draw_networkx(G)\n",
    "        plt.show()   \n",
    "    \n",
    "class Traversal(G):\n",
    "    def __init__(self):\n",
    "        # G.__init__(self)\n",
    "        #super(Traversal,self).__init__()\n",
    "        super().__init__()\n",
    "        \n",
    "    def findnode(self,alphabet):\n",
    "        for node in self.nodes:\n",
    "            if node.val == alphabet:\n",
    "                break\n",
    "        return node\n",
    "\n",
    "    def bfs(self):\n",
    "        frontier_bfs = [self.nodes[0]]\n",
    "        explored_bfs = [self.nodes[0]]\n",
    "        while frontier_bfs:         \n",
    "            current_node = frontier_bfs.pop(0)\n",
    "            print(current_node.val,end=\" \")\n",
    "            neighbors = current_node.edges\n",
    "            for node in neighbors:\n",
    "                if node not in explored_bfs:\n",
    "                    explored_bfs.append(node)\n",
    "                    frontier_bfs.append(node)\n",
    "        return        \n",
    "\n",
    "    def dfs(self):\n",
    "        frontier_dfs = [self.nodes[0]]\n",
    "        explored_dfs = [self.nodes[0]]\n",
    "        while frontier_dfs:         \n",
    "            current_node = frontier_dfs.pop()\n",
    "            print(current_node.val,end=\" \")\n",
    "            neighbors = current_node.edges\n",
    "            for node in neighbors:\n",
    "                if node not in explored_dfs:\n",
    "                    explored_dfs.append(node)\n",
    "                    frontier_dfs.append(node)\n",
    "        return        \n",
    "\n",
    "    def all_paths(self,start,goal):\n",
    "        start=self.findnode(start)\n",
    "        goal =self.findnode(goal)\n",
    "        \n",
    "        frontier = [[start]]\n",
    "        paths_list = []\n",
    "        while frontier:\n",
    "            current_path = frontier.pop(0)\n",
    "\n",
    "            if current_path[-1] == goal:\n",
    "                paths_list.append(current_path)      \n",
    "                continue\n",
    "            \n",
    "            neighbors = current_path[-1].edges\n",
    "            for node in neighbors: \n",
    "                if node not in current_path:\n",
    "                    new_path = current_path.copy()\n",
    "                    new_path.append(node)\n",
    "                    frontier.append(new_path)  \n",
    "        \n",
    "        #printing all paths:\n",
    "        printed_path = []\n",
    "        for path in paths_list:\n",
    "            if path not in printed_path:\n",
    "                printed_path.append(path)            \n",
    "                for node in path:\n",
    "                    print(node.val, end = \"->\")\n",
    "                print()\n",
    "\n",
    "        return   \n",
    "        \n",
    "        \n",
    "    def shortest_path(self, start, goal):\n",
    "        start=self.findnode(start)\n",
    "        goal =self.findnode(goal)\n",
    "\n",
    "        frontier = [start]\n",
    "        explored = [start]\n",
    "        pred = {}\n",
    "        distance = {}\n",
    "        distance[start] = 0\n",
    "        flag = True\n",
    "        while frontier and flag:\n",
    "            current_node = frontier.pop(0)\n",
    "            neighbors = current_node.edges\n",
    "\n",
    "            for node in neighbors:\n",
    "                if node not in explored:\n",
    "                    explored.append(node)\n",
    "                    frontier.append(node)\n",
    "                    distance[node] = distance[current_node] + 1\n",
    "                    pred[node] = current_node\n",
    "                if node == goal:\n",
    "                    flag = False\n",
    "                    break\n",
    "        if flag:\n",
    "            print(\"goal is not linked to the start\")\n",
    "            return -1\n",
    "\n",
    "        #print the shortest path\n",
    "        c = goal\n",
    "        path = []\n",
    "\n",
    "        while c!= start:\n",
    "            path.append(c)\n",
    "            c = pred[c]\n",
    "        path.append(start)\n",
    "        path = path[::-1]\n",
    "\n",
    "        print(\"length of the shortest path: \",distance[goal])\n",
    "        for node in path:\n",
    "            print(node.val, end=\" \")  \n",
    "        return   "
   ]
  },
  {
   "cell_type": "code",
   "execution_count": 333,
   "metadata": {},
   "outputs": [],
   "source": [
    "graph_dict = {'A': [1, 2],\n",
    "               'B': [3, 4],\n",
    "               'C': [5],\n",
    "               'D': [11],\n",
    "               'E': [5],\n",
    "               'F': [6, 10],\n",
    "               'G': [8],\n",
    "               'H': [10],\n",
    "               'I': [12],\n",
    "               'J': [7],\n",
    "               'K': [9],\n",
    "               'L': [1],\n",
    "               'M': [2]\n",
    "               }\n",
    "g2 = Traversal()\n",
    "g2.create_graph(graph_dict)"
   ]
  },
  {
   "cell_type": "code",
   "execution_count": 334,
   "metadata": {},
   "outputs": [
    {
     "name": "stdout",
     "output_type": "stream",
     "text": [
      "length of the shortest path:  5\n",
      "J K F E B L "
     ]
    }
   ],
   "source": [
    "g2.shortest_path('J','L')"
   ]
  },
  {
   "cell_type": "code",
   "execution_count": 335,
   "metadata": {},
   "outputs": [
    {
     "name": "stdout",
     "output_type": "stream",
     "text": [
      "A->B->\n",
      "A->C->F->E->B->\n",
      "A->C->M->I->G->F->E->B->\n"
     ]
    }
   ],
   "source": [
    "g2.all_paths('A','B')"
   ]
  },
  {
   "cell_type": "code",
   "execution_count": 293,
   "metadata": {},
   "outputs": [
    {
     "data": {
      "image/png": "[encoded data removed]",
      "text/plain": [
       "<Figure size 640x480 with 1 Axes>"
      ]
     },
     "metadata": {},
     "output_type": "display_data"
    }
   ],
   "source": [
    "g2.visualize()"
   ]
  },
  {
   "cell_type": "code",
   "execution_count": 328,
   "metadata": {},
   "outputs": [],
   "source": [
    "graph_dict2 = {'A': [1, 2],\n",
    "              'B': [2, 3],\n",
    "              'C': [3],\n",
    "              'D': [1],\n",
    "              }"
   ]
  },
  {
   "cell_type": "code",
   "execution_count": 329,
   "metadata": {},
   "outputs": [],
   "source": [
    "g3 = Traversal()\n",
    "g3.create_graph(graph_dict2)"
   ]
  },
  {
   "cell_type": "code",
   "execution_count": 330,
   "metadata": {},
   "outputs": [
    {
     "data": {
      "image/png": "[encoded data removed]",
      "text/plain": [
       "<Figure size 640x480 with 1 Axes>"
      ]
     },
     "metadata": {},
     "output_type": "display_data"
    }
   ],
   "source": [
    "g3.visualize()"
   ]
  },
  {
   "cell_type": "code",
   "execution_count": 331,
   "metadata": {},
   "outputs": [
    {
     "name": "stdout",
     "output_type": "stream",
     "text": [
      "A->B->D->\n",
      "A->C->D->\n",
      "A->B->C->D->\n",
      "A->C->B->D->\n"
     ]
    }
   ],
   "source": [
    "g3.all_paths('A','D')"
   ]
  }
 ],
 "metadata": {
  "kernelspec": {
   "display_name": "Python 3.10.7 64-bit (microsoft store)",
   "language": "python",
   "name": "python3"
  },
  "language_info": {
   "codemirror_mode": {
    "name": "ipython",
    "version": 3
   },
   "file_extension": ".py",
   "mimetype": "text/x-python",
   "name": "python",
   "nbconvert_exporter": "python",
   "pygments_lexer": "ipython3",
   "version": "3.10.7"
  },
  "orig_nbformat": 4,
  "vscode": {
   "interpreter": {
    "hash": "fa676f95b428963fc6a22d0f7ab79d1ad8fae9296cc6459b33242ceffa432c07"
   }
  }
 },
 "nbformat": 4,
 "nbformat_minor": 2
}
